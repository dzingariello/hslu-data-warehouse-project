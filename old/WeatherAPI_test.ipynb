{
 "cells": [
  {
   "cell_type": "code",
   "execution_count": 2,
   "id": "81e8dce2",
   "metadata": {},
   "outputs": [],
   "source": []
  },
  {
   "cell_type": "code",
   "execution_count": null,
   "id": "a1d24a74",
   "metadata": {},
   "outputs": [],
   "source": [
    "import requests"
   ]
  },
  {
   "cell_type": "code",
   "execution_count": 7,
   "id": "15f0fc59",
   "metadata": {},
   "outputs": [],
   "source": [
    "url = 'http://api.weatherstack.com/current'"
   ]
  },
  {
   "cell_type": "code",
   "execution_count": 10,
   "id": "46407fdf",
   "metadata": {},
   "outputs": [],
   "source": [
    "params = {\n",
    "    'access_key' : '1fa092c56893faabc996d03663445c98',\n",
    "    'query' : 'Zurich'\n",
    "}"
   ]
  },
  {
   "cell_type": "code",
   "execution_count": 11,
   "id": "6c5a5ff0",
   "metadata": {},
   "outputs": [],
   "source": [
    "result = requests.get(url, params)"
   ]
  },
  {
   "cell_type": "code",
   "execution_count": 12,
   "id": "7775f7ab",
   "metadata": {},
   "outputs": [
    {
     "data": {
      "text/plain": [
       "'{\"request\":{\"type\":\"City\",\"query\":\"Zurich, Switzerland\",\"language\":\"en\",\"unit\":\"m\"},\"location\":{\"name\":\"Zurich\",\"country\":\"Switzerland\",\"region\":\"\",\"lat\":\"47.367\",\"lon\":\"8.550\",\"timezone_id\":\"Europe\\\\/Zurich\",\"localtime\":\"2023-10-29 10:07\",\"localtime_epoch\":1698574020,\"utc_offset\":\"1.0\"},\"current\":{\"observation_time\":\"09:07 AM\",\"temperature\":8,\"weather_code\":116,\"weather_icons\":[\"https:\\\\/\\\\/cdn.worldweatheronline.com\\\\/images\\\\/wsymbols01_png_64\\\\/wsymbol_0002_sunny_intervals.png\"],\"weather_descriptions\":[\"Partly cloudy\"],\"wind_speed\":4,\"wind_degree\":10,\"wind_dir\":\"N\",\"pressure\":1005,\"precip\":0,\"humidity\":87,\"cloudcover\":25,\"feelslike\":8,\"uv_index\":4,\"visibility\":10,\"is_day\":\"yes\"}}'"
      ]
     },
     "execution_count": 12,
     "metadata": {},
     "output_type": "execute_result"
    }
   ],
   "source": [
    "result.text"
   ]
  },
  {
   "cell_type": "code",
   "execution_count": 13,
   "id": "c0a57853",
   "metadata": {},
   "outputs": [],
   "source": [
    "response = result.json()"
   ]
  },
  {
   "cell_type": "code",
   "execution_count": 14,
   "id": "2803e520",
   "metadata": {},
   "outputs": [
    {
     "name": "stdout",
     "output_type": "stream",
     "text": [
      "Current temperature in Zurich is 8℃\n"
     ]
    }
   ],
   "source": [
    "print(u'Current temperature in %s is %d℃' % (response['location']['name'], response['current']['temperature']))"
   ]
  }
 ],
 "metadata": {
  "kernelspec": {
   "display_name": "Python 3 (ipykernel)",
   "language": "python",
   "name": "python3"
  },
  "language_info": {
   "codemirror_mode": {
    "name": "ipython",
    "version": 3
   },
   "file_extension": ".py",
   "mimetype": "text/x-python",
   "name": "python",
   "nbconvert_exporter": "python",
   "pygments_lexer": "ipython3",
   "version": "3.9.12"
  }
 },
 "nbformat": 4,
 "nbformat_minor": 5
}

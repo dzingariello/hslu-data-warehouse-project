{
 "cells": [
  {
   "cell_type": "code",
   "execution_count": 4,
   "id": "8f7ae579",
   "metadata": {},
   "outputs": [],
   "source": [
    "import requests\n",
    "\n",
    "url_ZH = 'http://api.openweathermap.org/data/2.5/forecast?lat=47.3744489&lon=8.5410422&units=metric&appid=127619cee40c71033954846a9bfcf283'\n",
    "api_response = requests.get(url_ZH)\n",
    "Zurich = api_response.json()\n",
    "    \n",
    "main_temps = []\n",
    "main_temp_min = []\n",
    "main_temp_max = []\n",
    "main_humidity = []\n",
    "weather_main = []\n",
    "weather_description = []\n",
    "clouds = []\n",
    "wind = []\n",
    "visibility = []\n",
    "precipitation = []\n",
    "rain = []\n",
    "snow = []\n",
    "datetime = []\n",
    "city = Zurich.get('city', {}).get('name')\n",
    "lon = Zurich.get('city', {}).get('coord', {}).get('lon')\n",
    "lat = Zurich.get('city', {}).get('coord', {}).get('lat')\n",
    "\n",
    "for i, entry in enumerate(Zurich['list']):\n",
    "    if i % 8 == 0:  # select 1 value every 24 hours\n",
    "        main_temps.append(entry['main'].get('temp'))\n",
    "        main_temp_min.append(entry['main'].get('temp_min'))\n",
    "        main_temp_max.append(entry['main'].get('temp_max'))\n",
    "        main_humidity.append(entry['main'].get('humidity'))\n",
    "        for weather_condition in entry['weather']:\n",
    "            weather_main.append(weather_condition.get('main'))\n",
    "            weather_description.append(weather_condition.get('description'))\n",
    "        clouds.append(entry.get('clouds', {}).get('all'))\n",
    "        wind.append(entry.get('wind', {}).get('speed'))\n",
    "        visibility.append(entry.get('visibility'))\n",
    "        precipitation.append(entry.get('pop'))\n",
    "        rain.append(entry.get('rain', {}).get('3h'))\n",
    "        snow.append(entry.get('snow', {}).get('3h'))\n",
    "        datetime.append(entry.get('dt_txt'))"
   ]
  },
  {
   "cell_type": "code",
   "execution_count": 5,
   "id": "857c1c29",
   "metadata": {},
   "outputs": [
    {
     "name": "stdout",
     "output_type": "stream",
     "text": [
      "[6.65, 6.63, 10.25, 9.63, 5.99]\n",
      "[6.65, 6.63, 10.25, 9.63, 5.99]\n",
      "[9.62, 6.63, 10.25, 9.63, 5.99]\n",
      "[92, 72, 95, 93, 89]\n",
      "['Rain', 'Clouds', 'Rain', 'Rain', 'Rain']\n",
      "['moderate rain', 'overcast clouds', 'moderate rain', 'moderate rain', 'light rain']\n",
      "[100, 100, 100, 100, 97]\n",
      "[6.74, 3.56, 2.44, 3.33, 2.98]\n",
      "[10000, 10000, 4646, 4782, 10000]\n",
      "[1, 0.06, 1, 1, 0.84]\n",
      "[9.33, None, 8.16, 8.46, 0.12]\n",
      "[None, None, None, None, None]\n",
      "['2023-12-09 21:00:00', '2023-12-10 21:00:00', '2023-12-11 21:00:00', '2023-12-12 21:00:00', '2023-12-13 21:00:00']\n",
      "Zürich (Kreis 1) / Lindenhof\n",
      "8.541\n",
      "47.3744\n"
     ]
    }
   ],
   "source": [
    "print(main_temps)\n",
    "print(main_temp_min)\n",
    "print(main_temp_max)\n",
    "print(main_humidity)\n",
    "print(weather_main)\n",
    "print(weather_description)\n",
    "print(clouds)\n",
    "print(wind)\n",
    "print(visibility)\n",
    "print(precipitation)\n",
    "print(rain)\n",
    "print(snow)\n",
    "print(datetime)\n",
    "print(city)\n",
    "print(lon)\n",
    "print(lat)"
   ]
  },
  {
   "cell_type": "code",
   "execution_count": 13,
   "id": "17095b39",
   "metadata": {},
   "outputs": [
    {
     "data": {
      "text/plain": [
       "<sqlite3.Cursor at 0x25be1209650>"
      ]
     },
     "execution_count": 13,
     "metadata": {},
     "output_type": "execute_result"
    }
   ],
   "source": [
    "import sqlite3\n",
    "\n",
    "# Connect to the SQLite database (or create it if it doesn't exist)\n",
    "conn = sqlite3.connect('weather_data.db')\n",
    "cursor = conn.cursor()\n",
    "\n",
    "# Create a table to store weather data\n",
    "cursor.execute('''\n",
    "    CREATE TABLE IF NOT EXISTS weather_data (\n",
    "        id INTEGER PRIMARY KEY AUTOINCREMENT,\n",
    "        main_temp REAL,\n",
    "        temp_min REAL,\n",
    "        temp_max REAL,\n",
    "        humidity INTEGER,\n",
    "        weather_main TEXT,\n",
    "        weather_description TEXT,\n",
    "        clouds INTEGER,\n",
    "        wind_speed REAL,\n",
    "        visibility INTEGER,\n",
    "        precipitation REAL,\n",
    "        rain_3h REAL,\n",
    "        snow_3h REAL,\n",
    "        datetime TEXT,\n",
    "        city TEXT,\n",
    "        lon REAL,\n",
    "        lat REAL\n",
    "    )\n",
    "''')\n"
   ]
  },
  {
   "cell_type": "code",
   "execution_count": 14,
   "id": "f630c612",
   "metadata": {},
   "outputs": [],
   "source": [
    "# Insert data into the table\n",
    "for i in range(len(main_temps)):\n",
    "    cursor.execute('''\n",
    "        INSERT INTO weather_data (\n",
    "            main_temp, temp_min, temp_max, humidity, weather_main, weather_description,\n",
    "            clouds, wind_speed, visibility, precipitation, rain_3h, snow_3h, datetime,\n",
    "            city, lon, lat\n",
    "        ) VALUES (?, ?, ?, ?, ?, ?, ?, ?, ?, ?, ?, ?, ?, ?, ?, ?)\n",
    "    ''', (\n",
    "        main_temps[i], main_temp_min[i], main_temp_max[i], main_humidity[i],\n",
    "        weather_main[i], weather_description[i], clouds[i], wind[i],\n",
    "        visibility[i], precipitation[i], rain[i], snow[i], datetime[i],\n",
    "        city, lon, lat\n",
    "    ))\n",
    "\n",
    "# Commit the changes and close the connection\n",
    "conn.commit()\n",
    "conn.close()"
   ]
  },
  {
   "cell_type": "code",
   "execution_count": 17,
   "id": "dc6764ca",
   "metadata": {},
   "outputs": [
    {
     "name": "stdout",
     "output_type": "stream",
     "text": [
      "id\tmain_temp\ttemp_min\ttemp_max\thumidity\tweather_main\tweather_description\tclouds\twind_speed\tvisibility\tprecipitation\train_3h\tsnow_3h\tdatetime\tcity\tlon\tlat\n",
      "1\t6.65\t6.65\t9.62\t92\tRain\tmoderate rain\t100\t6.74\t10000\t1.0\t9.33\tNone\t2023-12-09 21:00:00\tZürich (Kreis 1) / Lindenhof\t8.541\t47.3744\n",
      "2\t6.63\t6.63\t6.63\t72\tClouds\tovercast clouds\t100\t3.56\t10000\t0.06\tNone\tNone\t2023-12-10 21:00:00\tZürich (Kreis 1) / Lindenhof\t8.541\t47.3744\n",
      "3\t10.25\t10.25\t10.25\t95\tRain\tmoderate rain\t100\t2.44\t4646\t1.0\t8.16\tNone\t2023-12-11 21:00:00\tZürich (Kreis 1) / Lindenhof\t8.541\t47.3744\n",
      "4\t9.63\t9.63\t9.63\t93\tRain\tmoderate rain\t100\t3.33\t4782\t1.0\t8.46\tNone\t2023-12-12 21:00:00\tZürich (Kreis 1) / Lindenhof\t8.541\t47.3744\n",
      "5\t5.99\t5.99\t5.99\t89\tRain\tlight rain\t97\t2.98\t10000\t0.84\t0.12\tNone\t2023-12-13 21:00:00\tZürich (Kreis 1) / Lindenhof\t8.541\t47.3744\n",
      "6\t6.65\t6.65\t9.62\t92\tRain\tmoderate rain\t100\t6.74\t10000\t1.0\t9.33\tNone\t2023-12-09 21:00:00\tZürich (Kreis 1) / Lindenhof\t8.541\t47.3744\n",
      "7\t6.63\t6.63\t6.63\t72\tClouds\tovercast clouds\t100\t3.56\t10000\t0.06\tNone\tNone\t2023-12-10 21:00:00\tZürich (Kreis 1) / Lindenhof\t8.541\t47.3744\n",
      "8\t10.25\t10.25\t10.25\t95\tRain\tmoderate rain\t100\t2.44\t4646\t1.0\t8.16\tNone\t2023-12-11 21:00:00\tZürich (Kreis 1) / Lindenhof\t8.541\t47.3744\n",
      "9\t9.63\t9.63\t9.63\t93\tRain\tmoderate rain\t100\t3.33\t4782\t1.0\t8.46\tNone\t2023-12-12 21:00:00\tZürich (Kreis 1) / Lindenhof\t8.541\t47.3744\n",
      "10\t5.99\t5.99\t5.99\t89\tRain\tlight rain\t97\t2.98\t10000\t0.84\t0.12\tNone\t2023-12-13 21:00:00\tZürich (Kreis 1) / Lindenhof\t8.541\t47.3744\n"
     ]
    }
   ],
   "source": [
    "# Connect to the database\n",
    "conn = sqlite3.connect('weather_data.db')\n",
    "cursor = conn.cursor()\n",
    "\n",
    "# Execute a SELECT query to retrieve data from the table\n",
    "cursor.execute('SELECT * FROM weather_data')\n",
    "\n",
    "# Fetch all rows from the result set\n",
    "rows = cursor.fetchall()\n",
    "\n",
    "# Print the table header\n",
    "header = [description[0] for description in cursor.description]\n",
    "print(\"\\t\".join(map(str, header)))\n",
    "\n",
    "# Print each row of the table\n",
    "for row in rows:\n",
    "    print(\"\\t\".join(map(str, row)))\n",
    "\n",
    "# Close the connection\n",
    "conn.close()\n"
   ]
  },
  {
   "cell_type": "code",
   "execution_count": 16,
   "id": "d13f5e9e",
   "metadata": {},
   "outputs": [
    {
     "name": "stdout",
     "output_type": "stream",
     "text": [
      "The 'weather_data' table exists.\n"
     ]
    }
   ],
   "source": [
    "# Connect to the database\n",
    "conn = sqlite3.connect('weather_data.db')\n",
    "cursor = conn.cursor()\n",
    "\n",
    "# Check if the table exists\n",
    "cursor.execute(\"SELECT name FROM sqlite_master WHERE type='table' AND name='weather_data'\")\n",
    "table_exists = cursor.fetchone() is not None\n",
    "\n",
    "# Print the result\n",
    "if table_exists:\n",
    "    print(\"The 'weather_data' table exists.\")\n",
    "else:\n",
    "    print(\"The 'weather_data' table does not exist.\")\n",
    "\n",
    "# Close the connection\n",
    "conn.close()\n"
   ]
  }
 ],
 "metadata": {
  "kernelspec": {
   "display_name": "Python 3 (ipykernel)",
   "language": "python",
   "name": "python3"
  },
  "language_info": {
   "codemirror_mode": {
    "name": "ipython",
    "version": 3
   },
   "file_extension": ".py",
   "mimetype": "text/x-python",
   "name": "python",
   "nbconvert_exporter": "python",
   "pygments_lexer": "ipython3",
   "version": "3.9.12"
  }
 },
 "nbformat": 4,
 "nbformat_minor": 5
}
